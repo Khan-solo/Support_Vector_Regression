{
  "nbformat": 4,
  "nbformat_minor": 0,
  "metadata": {
    "colab": {
      "name": "Support Vector Regressoin",
      "provenance": [],
      "collapsed_sections": [],
      "mount_file_id": "10axe_ZuxgyHuoV7K9GTGTGaaiXVDy9B0",
      "authorship_tag": "ABX9TyO1OhXJ17Uj2uczRevZuoUx",
      "include_colab_link": true
    },
    "kernelspec": {
      "name": "python3",
      "display_name": "Python 3"
    },
    "language_info": {
      "name": "python"
    }
  },
  "cells": [
    {
      "cell_type": "markdown",
      "metadata": {
        "id": "view-in-github",
        "colab_type": "text"
      },
      "source": [
        "<a href=\"https://colab.research.google.com/github/Khan-solo/Support_Vector_Regression/blob/main/Support_Vector_Regressoin.ipynb\" target=\"_parent\"><img src=\"https://colab.research.google.com/assets/colab-badge.svg\" alt=\"Open In Colab\"/></a>"
      ]
    },
    {
      "cell_type": "code",
      "metadata": {
        "id": "ij-nN9wLpjND"
      },
      "source": [
        "import numpy as np\n",
        "import pandas as pd\n",
        "import seaborn as sns\n",
        "import matplotlib.pyplot as plt"
      ],
      "execution_count": 32,
      "outputs": []
    },
    {
      "cell_type": "code",
      "metadata": {
        "colab": {
          "base_uri": "https://localhost:8080/",
          "height": 359
        },
        "id": "KN11rKOyqal0",
        "outputId": "aaaf703b-b7c4-40d7-a543-eeef94a1537a"
      },
      "source": [
        "#Importing the dataset\n",
        "dataset = pd.read_csv(\"/content/drive/MyDrive/Machine learning/Support Vector Regression/Position_Salaries.csv\")\n",
        "np.set_printoptions(precision= 2)\n",
        "dataset"
      ],
      "execution_count": 33,
      "outputs": [
        {
          "output_type": "execute_result",
          "data": {
            "text/html": [
              "<div>\n",
              "<style scoped>\n",
              "    .dataframe tbody tr th:only-of-type {\n",
              "        vertical-align: middle;\n",
              "    }\n",
              "\n",
              "    .dataframe tbody tr th {\n",
              "        vertical-align: top;\n",
              "    }\n",
              "\n",
              "    .dataframe thead th {\n",
              "        text-align: right;\n",
              "    }\n",
              "</style>\n",
              "<table border=\"1\" class=\"dataframe\">\n",
              "  <thead>\n",
              "    <tr style=\"text-align: right;\">\n",
              "      <th></th>\n",
              "      <th>Position</th>\n",
              "      <th>Level</th>\n",
              "      <th>Salary</th>\n",
              "    </tr>\n",
              "  </thead>\n",
              "  <tbody>\n",
              "    <tr>\n",
              "      <th>0</th>\n",
              "      <td>Business Analyst</td>\n",
              "      <td>1</td>\n",
              "      <td>45000</td>\n",
              "    </tr>\n",
              "    <tr>\n",
              "      <th>1</th>\n",
              "      <td>Junior Consultant</td>\n",
              "      <td>2</td>\n",
              "      <td>50000</td>\n",
              "    </tr>\n",
              "    <tr>\n",
              "      <th>2</th>\n",
              "      <td>Senior Consultant</td>\n",
              "      <td>3</td>\n",
              "      <td>60000</td>\n",
              "    </tr>\n",
              "    <tr>\n",
              "      <th>3</th>\n",
              "      <td>Manager</td>\n",
              "      <td>4</td>\n",
              "      <td>80000</td>\n",
              "    </tr>\n",
              "    <tr>\n",
              "      <th>4</th>\n",
              "      <td>Country Manager</td>\n",
              "      <td>5</td>\n",
              "      <td>110000</td>\n",
              "    </tr>\n",
              "    <tr>\n",
              "      <th>5</th>\n",
              "      <td>Region Manager</td>\n",
              "      <td>6</td>\n",
              "      <td>150000</td>\n",
              "    </tr>\n",
              "    <tr>\n",
              "      <th>6</th>\n",
              "      <td>Partner</td>\n",
              "      <td>7</td>\n",
              "      <td>200000</td>\n",
              "    </tr>\n",
              "    <tr>\n",
              "      <th>7</th>\n",
              "      <td>Senior Partner</td>\n",
              "      <td>8</td>\n",
              "      <td>300000</td>\n",
              "    </tr>\n",
              "    <tr>\n",
              "      <th>8</th>\n",
              "      <td>C-level</td>\n",
              "      <td>9</td>\n",
              "      <td>500000</td>\n",
              "    </tr>\n",
              "    <tr>\n",
              "      <th>9</th>\n",
              "      <td>CEO</td>\n",
              "      <td>10</td>\n",
              "      <td>1000000</td>\n",
              "    </tr>\n",
              "  </tbody>\n",
              "</table>\n",
              "</div>"
            ],
            "text/plain": [
              "            Position  Level   Salary\n",
              "0   Business Analyst      1    45000\n",
              "1  Junior Consultant      2    50000\n",
              "2  Senior Consultant      3    60000\n",
              "3            Manager      4    80000\n",
              "4    Country Manager      5   110000\n",
              "5     Region Manager      6   150000\n",
              "6            Partner      7   200000\n",
              "7     Senior Partner      8   300000\n",
              "8            C-level      9   500000\n",
              "9                CEO     10  1000000"
            ]
          },
          "metadata": {
            "tags": []
          },
          "execution_count": 33
        }
      ]
    },
    {
      "cell_type": "code",
      "metadata": {
        "id": "44qLF2kOqzPk"
      },
      "source": [
        "#Getting Matrix of features and dependent variable\n",
        "X = np.array(dataset.iloc[:, 1:-1])\n",
        "y = np.array(dataset.iloc[:, -1])\n",
        "y=y.reshape(len(y), 1)\n"
      ],
      "execution_count": 34,
      "outputs": []
    },
    {
      "cell_type": "code",
      "metadata": {
        "id": "2GWZ76WfwwJB"
      },
      "source": [
        "#Feature scaling: (hella important, otherwise SVR wont work)\n",
        "from sklearn.preprocessing import StandardScaler\n",
        "sc = StandardScaler()\n",
        "scy = StandardScaler()\n",
        "X = sc.fit_transform(X)\n",
        "y = scy.fit_transform(y)"
      ],
      "execution_count": 35,
      "outputs": []
    },
    {
      "cell_type": "code",
      "metadata": {
        "colab": {
          "base_uri": "https://localhost:8080/",
          "height": 265
        },
        "id": "RzqYMuor5cj0",
        "outputId": "e43435ea-30f0-42e3-c05d-6b7d817ced24"
      },
      "source": [
        "#visualising the scaled data. \n",
        "plt.scatter(X, y)\n",
        "plt.show()"
      ],
      "execution_count": 36,
      "outputs": [
        {
          "output_type": "display_data",
          "data": {
            "image/png": "[encoded data removed]",
            "text/plain": [
              "<Figure size 432x288 with 1 Axes>"
            ]
          },
          "metadata": {
            "tags": [],
            "needs_background": "light"
          }
        }
      ]
    },
    {
      "cell_type": "code",
      "metadata": {
        "colab": {
          "base_uri": "https://localhost:8080/"
        },
        "id": "aUSyIKTsDTpF",
        "outputId": "15d189ef-beaa-45a6-b9c4-b3c353f06378"
      },
      "source": [
        "#training the SVR model on the whole dataset\n",
        "from sklearn.svm import SVR\n",
        "regressor = SVR()\n",
        "regressor.fit(X,y)"
      ],
      "execution_count": 37,
      "outputs": [
        {
          "output_type": "stream",
          "text": [
            "/usr/local/lib/python3.7/dist-packages/sklearn/utils/validation.py:760: DataConversionWarning: A column-vector y was passed when a 1d array was expected. Please change the shape of y to (n_samples, ), for example using ravel().\n",
            "  y = column_or_1d(y, warn=True)\n"
          ],
          "name": "stderr"
        },
        {
          "output_type": "execute_result",
          "data": {
            "text/plain": [
              "SVR(C=1.0, cache_size=200, coef0=0.0, degree=3, epsilon=0.1, gamma='scale',\n",
              "    kernel='rbf', max_iter=-1, shrinking=True, tol=0.001, verbose=False)"
            ]
          },
          "metadata": {
            "tags": []
          },
          "execution_count": 37
        }
      ]
    },
    {
      "cell_type": "markdown",
      "metadata": {
        "id": "w9BOBM3iHaiO"
      },
      "source": [
        "# Predicting a new result"
      ]
    },
    {
      "cell_type": "markdown",
      "metadata": {
        "id": "rK3ktKMKJMwu"
      },
      "source": [
        "* \"Position level\" has to be a 2D array\n",
        "* Since we trained on X and y, both were scaled using 2 different scalars\n",
        "* The observations have to be of the same scale\n",
        "* Hence, apply scaling to the value"
      ]
    },
    {
      "cell_type": "code",
      "metadata": {
        "colab": {
          "base_uri": "https://localhost:8080/"
        },
        "id": "cu3eQ3I4HcQW",
        "outputId": "fefd406d-888c-440c-8e00-fb22a72b0865"
      },
      "source": [
        "#predicting the salary at level 6.5\n",
        "scy.inverse_transform(regressor.predict(sc.transform([[6.5]])))"
      ],
      "execution_count": 38,
      "outputs": [
        {
          "output_type": "execute_result",
          "data": {
            "text/plain": [
              "array([170370.02])"
            ]
          },
          "metadata": {
            "tags": []
          },
          "execution_count": 38
        }
      ]
    },
    {
      "cell_type": "markdown",
      "metadata": {
        "id": "jCjfy7vrLQv-"
      },
      "source": [
        "* Transforming the value of the variable (X) to the scale used for scaling the training set\n",
        "* Inverse transforming the prediction to the original value, from the scaled down values of dependent variable "
      ]
    },
    {
      "cell_type": "markdown",
      "metadata": {
        "id": "jJlfPWZyHQ2d"
      },
      "source": [
        "Visualising the data"
      ]
    },
    {
      "cell_type": "code",
      "metadata": {
        "colab": {
          "base_uri": "https://localhost:8080/",
          "height": 295
        },
        "id": "AyadrVI6HW61",
        "outputId": "3108c545-4ad2-4d02-904e-13a559b98819"
      },
      "source": [
        "#using matplotlib\n",
        "#inverse transforming the matrix of features and dependent variable\n",
        "plt.scatter(sc.inverse_transform(X), scy.inverse_transform(y), color= \"red\")\n",
        "plt.plot(sc.inverse_transform(X), scy.inverse_transform(regressor.predict(X)), color = \"blue\")\n",
        "plt.title(\"SVR Visualisation (Level vs Salary\")\n",
        "plt.xlabel(\"Positon Level\")\n",
        "plt.ylabel(\"Salary in USD\")\n",
        "plt.show()"
      ],
      "execution_count": 42,
      "outputs": [
        {
          "output_type": "display_data",
          "data": {
            "image/png": "[encoded data removed]",
            "text/plain": [
              "<Figure size 432x288 with 1 Axes>"
            ]
          },
          "metadata": {
            "tags": [],
            "needs_background": "light"
          }
        }
      ]
    },
    {
      "cell_type": "markdown",
      "metadata": {
        "id": "uOaqQl2EPcfg"
      },
      "source": [
        "Visualising in higer resolution"
      ]
    },
    {
      "cell_type": "code",
      "metadata": {
        "colab": {
          "base_uri": "https://localhost:8080/",
          "height": 295
        },
        "id": "Snb4YUc6Q5Cw",
        "outputId": "1b0eefb6-a8fb-400e-c6ef-512adbb7bfc0"
      },
      "source": [
        "X_grid = np.arange(min(sc.inverse_transform(X)), max(sc.inverse_transform(X)), 0.1)\n",
        "X_grid = X_grid.reshape((len(X_grid), 1))\n",
        "plt.scatter(sc.inverse_transform(X), scy.inverse_transform(y), color = 'red')\n",
        "plt.plot(X_grid, scy.inverse_transform(regressor.predict(sc.transform(X_grid))), color = 'blue')\n",
        "plt.title('Truth or Bluff (SVR)')\n",
        "plt.xlabel('Position level')\n",
        "plt.ylabel('Salary')\n",
        "plt.show()"
      ],
      "execution_count": 43,
      "outputs": [
        {
          "output_type": "display_data",
          "data": {
            "image/png": "[encoded data removed]",
            "text/plain": [
              "<Figure size 432x288 with 1 Axes>"
            ]
          },
          "metadata": {
            "tags": [],
            "needs_background": "light"
          }
        }
      ]
    }
  ]
}